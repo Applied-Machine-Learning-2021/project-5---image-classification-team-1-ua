{
  "nbformat": 4,
  "nbformat_minor": 0,
  "metadata": {
    "colab": {
      "name": "project5.ipynb",
      "private_outputs": true,
      "provenance": [],
      "collapsed_sections": [
        "yFwKrxE38t9S"
      ]
    },
    "kernelspec": {
      "display_name": "Python 3",
      "name": "python3"
    },
    "accelerator": "GPU"
  },
  "cells": [
    {
      "cell_type": "markdown",
      "metadata": {
        "id": "view-in-github"
      },
      "source": [
        "<a href=\"https://colab.research.google.com/github/google/applied-machine-learning-intensive/blob/master/content/05_deep_learning/05_image_classification_project/colab.ipynb\" target=\"_parent\"><img src=\"https://colab.research.google.com/assets/colab-badge.svg\" alt=\"Open In Colab\"/></a>"
      ]
    },
    {
      "cell_type": "markdown",
      "metadata": {
        "id": "yFwKrxE38t9S"
      },
      "source": [
        "#### Copyright 2020 Google LLC."
      ]
    },
    {
      "cell_type": "code",
      "metadata": {
        "id": "kpcrMDk48nqI"
      },
      "source": [
        "# Licensed under the Apache License, Version 2.0 (the \"License\");\n",
        "# you may not use this file except in compliance with the License.\n",
        "# You may obtain a copy of the License at\n",
        "#\n",
        "# https://www.apache.org/licenses/LICENSE-2.0\n",
        "#\n",
        "# Unless required by applicable law or agreed to in writing, software\n",
        "# distributed under the License is distributed on an \"AS IS\" BASIS,\n",
        "# WITHOUT WARRANTIES OR CONDITIONS OF ANY KIND, either express or implied.\n",
        "# See the License for the specific language governing permissions and\n",
        "# limitations under the License."
      ],
      "execution_count": null,
      "outputs": []
    },
    {
      "cell_type": "markdown",
      "metadata": {
        "id": "bTZOeKjw8waH"
      },
      "source": [
        "# Image Classification Project"
      ]
    },
    {
      "cell_type": "markdown",
      "metadata": {
        "id": "pK5j0BXxrbfX"
      },
      "source": [
        "In this project we will build an image classification model and use the model to identify if the lungs pictured indicate that the patient has pneumonia. The outcome of the model will be true or false for each image.\n",
        "\n",
        "The [data is hosted on Kaggle](https://www.kaggle.com/rob717/pneumonia-dataset) and consists of 5,863 x-ray images. Each image is classified as 'pneumonia' or 'normal'."
      ]
    },
    {
      "cell_type": "markdown",
      "metadata": {
        "id": "_ht1GVr68swO"
      },
      "source": [
        "## Ethical Considerations"
      ]
    },
    {
      "cell_type": "markdown",
      "metadata": {
        "id": "mW94_8-98vpR"
      },
      "source": [
        "We will frame the problem as:\n",
        "\n",
        "> *A hospital is having issues correctly diagnosing patients with pneumonia. Their current solution is to have two trained technicians examine every patient scan. Unfortunately, there are many times when two technicians are not available, and the scans have to wait for multiple days to be interpreted.*\n",
        ">\n",
        "> *They hope to fix this issue by creating a model that can identify if a patient has pneumonia. They will have one technician and the model both examine the scans and make a prediction. If the two agree, then the diagnosis is accepted. If the two disagree, then a second technician is brought in to provide their analysis and break the tie.*\n",
        "\n",
        "Discuss some of the ethical considerations of building and using this model. \n",
        "\n",
        "* Consider potential bias in the data that we have been provided. \n",
        "* Should this model err toward precision or accuracy?\n",
        "* What are the implications of massively over-classifying patients as having pneumonia?\n",
        "* What are the implications of massively under-classifying patients as having pneumonia?\n",
        "* Are there any concerns with having only one technician make the initial call?\n",
        "\n",
        "The questions above are prompts. Feel free to bring in other considerations you might have."
      ]
    },
    {
      "cell_type": "markdown",
      "metadata": {
        "id": "PgUwTn_K-iK6"
      },
      "source": [
        "### **Student Solution**"
      ]
    },
    {
      "cell_type": "markdown",
      "metadata": {
        "id": "0i0zCRDT-j58"
      },
      "source": [
        "> *The model could hold bias towards smokers and people of older age. The model should err towards accuracy instead of precision. The reason why is because the more accurate that the model is of detecting patients with pneumonia.\n",
        "The main concern with having only one technician make the initial is that there leaves room for error on the technician. Due to possibilities such as age, experience, and bias.*"
      ]
    },
    {
      "cell_type": "markdown",
      "metadata": {
        "id": "f9AxwuxE-nQt"
      },
      "source": [
        "---"
      ]
    },
    {
      "cell_type": "markdown",
      "metadata": {
        "id": "6ZFanABOAoHl"
      },
      "source": [
        "## Modeling"
      ]
    },
    {
      "cell_type": "markdown",
      "metadata": {
        "id": "dxnS0ZlQAqNj"
      },
      "source": [
        "In this section of the lab, you will build, train, test, and validate a model or models. The data is the [\"Detecting Pneumonia\" dataset](https://www.kaggle.com/rob717/pneumonia-dataset). You will build a binary classifier that determines if an x-ray image has pneumonia or not.\n",
        "\n",
        "You'll need to:\n",
        "\n",
        "* Download the dataset\n",
        "* Perform EDA on the dataset\n",
        "* Build a model that can classify the data\n",
        "* Train the model using the training portion of the dataset. (It is already split out.)\n",
        "* Test at least three different models or model configurations using the testing portion of the dataset. This step can include changing model types, adding and removing layers or nodes from a neural network, or any other parameter tuning that you find potentially useful. Score the model (using accuracy, precision, recall, F1, or some other relevant score(s)) for each configuration.\n",
        "* After finding the \"best\" model and parameters, use the validation portion of the dataset to perform one final sanity check by scoring the model once more with the hold-out data.\n",
        "* If you train a neural network (or other model that you can get epoch-per-epoch performance), graph that performance over each epoch.\n",
        "\n",
        "Explain your work!\n",
        "\n",
        "> *Note: You'll likely want to [enable GPU in this lab](https://colab.research.google.com/notebooks/gpu.ipynb) if it is not already enabled.*\n",
        "\n",
        "If you get to a working solution you're happy with and want another challenge, you'll find pre-trained models on the [landing page of the dataset](https://www.kaggle.com/paultimothymooney/detecting-pneumonia-in-x-ray-images). Try to load one of those and see how it compares to your best model.\n",
        "\n",
        "Use as many text and code cells as you need to for your solution."
      ]
    },
    {
      "cell_type": "markdown",
      "metadata": {
        "id": "7XM35vYWSbim"
      },
      "source": [
        "### **Student Solution**"
      ]
    },
    {
      "cell_type": "code",
      "metadata": {
        "id": "Iun79EmoDO90"
      },
      "source": [
        "import matplotlib.pyplot as plt\n",
        "import tensorflow as tf\n",
        "from keras.preprocessing.image import ImageDataGenerator\n",
        "import numpy as np\n",
        "from sklearn.linear_model import LogisticRegression"
      ],
      "execution_count": null,
      "outputs": []
    },
    {
      "cell_type": "code",
      "metadata": {
        "id": "ivTzfzQN5jDk"
      },
      "source": [
        "# Download the dataset\n",
        "! chmod 600 kaggle.json && (ls ~/.kaggle 2>/dev/null || mkdir ~/.kaggle) && cp kaggle.json ~/.kaggle/ && echo 'Done'\n",
        "! kaggle datasets download paultimothymooney/chest-xray-pneumonia\n",
        "! unzip chest-xray-pneumonia.zip\n",
        "\n",
        "# create a data generator\n",
        "datagen = ImageDataGenerator()\n",
        "\n",
        "# load and iterate training dataset\n",
        "train_it = datagen.flow_from_directory('chest_xray/train/', class_mode='binary', \n",
        "                                       batch_size=32, shuffle = True, target_size=(256, 256))\n",
        "\n",
        "# load and iterate validation dataset\n",
        "# val_it = datagen.flow_from_directory('chest_xray/val/', class_mode='binary', batch_size=64)\n",
        "\n",
        "# load and iterate test dataset\n",
        "test_it = datagen.flow_from_directory('chest_xray/test/', class_mode='binary', target_size=(256, 256))"
      ],
      "execution_count": null,
      "outputs": []
    },
    {
      "cell_type": "code",
      "metadata": {
        "id": "876a1cujXyrB"
      },
      "source": [
        "# EDA\n",
        "print(np.array(train_it[0][0]).shape) # A batch of training data\n",
        "# We can see our data is of size 256x256\n",
        "print(train_it[0][1]) # That batch's corresponding labels\n",
        "\n",
        "# Let's look at some samples with and without pneumonia\n",
        "for i in range(5):\n",
        "  if train_it[0][1][i] == 1:\n",
        "    print(\"With Pneumonia: \")\n",
        "    plt.imshow(train_it[0][0][i].astype(int))\n",
        "    plt.show()\n",
        "  else:\n",
        "    print(\"Without Pneumonia: \")\n",
        "    plt.imshow(train_it[0][0][i].astype(int))\n",
        "    plt.show()\n"
      ],
      "execution_count": null,
      "outputs": []
    },
    {
      "cell_type": "code",
      "metadata": {
        "id": "VhWH4pUfXzZW"
      },
      "source": [
        "# Model 1\n",
        "\n",
        "# This is a fairly large network that follows each convolutional layer with a\n",
        "# Max pooling layer\n",
        "model1 = tf.keras.Sequential([\n",
        "    tf.keras.layers.Conv2D(16, 3, padding='same', activation='relu',\n",
        "                           input_shape=(256, 256, 3)),\n",
        "    tf.keras.layers.MaxPooling2D(),\n",
        "    tf.keras.layers.Conv2D(32, 3, padding='same', activation='relu'),\n",
        "    tf.keras.layers.MaxPooling2D(),\n",
        "    tf.keras.layers.Conv2D(64, 3, padding='same', activation='relu'),\n",
        "    tf.keras.layers.MaxPooling2D(),\n",
        "    tf.keras.layers.Flatten(),\n",
        "    tf.keras.layers.Dense(512, activation='relu'),\n",
        "    tf.keras.layers.Dense(1, activation='softmax')\n",
        "])\n",
        "\n",
        "model1.compile(optimizer='adam',\n",
        "              loss='binary_crossentropy',\n",
        "              metrics=['accuracy'])\n",
        "\n",
        "\n",
        "# Training\n",
        "history1 = model1.fit(\n",
        "    train_it,\n",
        "    epochs=3,\n",
        ")\n",
        "\n",
        "# Scoring \n",
        "print(\"model 1\", model1.evaluate(test_it))\n"
      ],
      "execution_count": null,
      "outputs": []
    },
    {
      "cell_type": "code",
      "metadata": {
        "id": "RQTILgiQX01q"
      },
      "source": [
        "# Model 2\n",
        "\n",
        "# The structure of this model is pretty similar to the first model,\n",
        "# but I removed a convolutional layer along with a max pooling layer\n",
        "# I also swapped out most of the activation functions for the sigmoid function\n",
        "model2 = tf.keras.Sequential([\n",
        "    tf.keras.layers.Conv2D(16, 3, padding='same', activation='sigmoid',\n",
        "                           input_shape=(256, 256, 3)),\n",
        "    tf.keras.layers.MaxPooling2D(),\n",
        "    tf.keras.layers.Conv2D(32, 3, padding='same', activation='sigmoid'),\n",
        "    tf.keras.layers.MaxPooling2D(),\n",
        "    tf.keras.layers.Flatten(),\n",
        "    tf.keras.layers.Dense(512, activation='sigmoid'),\n",
        "    tf.keras.layers.Dense(1, activation='softmax')\n",
        "])\n",
        "\n",
        "\n",
        "model2.compile(optimizer='adam',\n",
        "              loss='binary_crossentropy',\n",
        "              metrics=['accuracy'])\n",
        "\n",
        "# Training\n",
        "history2 = model2.fit(\n",
        "    train_it,\n",
        "    epochs=3,\n",
        ")\n",
        "\n",
        "# Scoring\n",
        "print(\"model 2\", model2.evaluate(test_it))"
      ],
      "execution_count": null,
      "outputs": []
    },
    {
      "cell_type": "code",
      "metadata": {
        "id": "_3m0-itaBtnx"
      },
      "source": [
        "# Model 3\n",
        "\n",
        "# For this model, I decided to go with a logistic regression. I flatten out each\n",
        "# of the images in order to do so.\n",
        "X_train = []\n",
        "X_test = []\n",
        "for i in range(32):\n",
        "  X_train.append(train_it[0][0][i].flatten())\n",
        "  if i < 32:\n",
        "    X_test.append(test_it[0][0][i].flatten())\n",
        "y_train = np.array(train_it[0][1])\n",
        "y_test = np.array(test_it[0][1])\n",
        "\n",
        "# Training\n",
        "model3 = LogisticRegression(random_state=0).fit(X_train, y_train)\n",
        "\n",
        "# Scoring\n",
        "model3.score(X_test,y_test)"
      ],
      "execution_count": null,
      "outputs": []
    },
    {
      "cell_type": "code",
      "metadata": {
        "id": "02LJdrJ1BwW8"
      },
      "source": [
        "# Graphs\n",
        "\n",
        "# Model 1 graphs\n",
        "plt.plot(list(range(len(history1.history['accuracy']))), history1.history['accuracy'])\n",
        "plt.title(label='accuracy')\n",
        "plt.show()\n",
        "plt.plot(list(range(len(history1.history['loss']))), history1.history['loss'])\n",
        "plt.title(label='loss')\n",
        "plt.show()\n",
        "\n",
        "# Model 2 graphs\n",
        "plt.plot(list(range(len(history2.history['accuracy']))), history2.history['accuracy'])\n",
        "plt.title(label='accuracy')\n",
        "plt.show()\n",
        "plt.plot(list(range(len(history2.history['loss']))), history2.history['loss'])\n",
        "plt.title(label='loss')\n",
        "plt.show()"
      ],
      "execution_count": null,
      "outputs": []
    },
    {
      "cell_type": "markdown",
      "metadata": {
        "id": "HvAKQ-uYYyhZ"
      },
      "source": [
        "As you can see, all three models actually performed pretty similarly. Surpirsingly, in terms of accuracy the third model which was just a logistic regression performed the best. For me, it gave an accuracy of 81.25%, whereas the other two models gave an accuracy in the 60s."
      ]
    },
    {
      "cell_type": "code",
      "metadata": {
        "id": "yb3tMHkXZRrZ"
      },
      "source": [
        "# Pre-trained model\n",
        "\n",
        "Xception = tf.keras.applications.Xception(\n",
        "    include_top=False,\n",
        "    weights=\"imagenet\",\n",
        "    input_shape=(256,256,3),\n",
        "    classifier_activation=\"softmax\",\n",
        ")\n",
        "\n",
        "model = tf.keras.Sequential([\n",
        "  Xception,\n",
        "  tf.keras.layers.GlobalAveragePooling2D(),\n",
        "  tf.keras.layers.Dense(1, activation='sigmoid'),\n",
        "])\n",
        "\n",
        "model.compile(\n",
        "  loss=tf.keras.losses.BinaryCrossentropy(),\n",
        "  metrics=['accuracy']\n",
        ")\n",
        "\n",
        "# Training\n",
        "history = model.fit(\n",
        "    train_it,\n",
        "    epochs=3,\n",
        ")\n",
        "\n",
        "# Scoring\n",
        "print(\"Xception\", model.evaluate(test_it))"
      ],
      "execution_count": null,
      "outputs": []
    },
    {
      "cell_type": "code",
      "metadata": {
        "id": "G-Ty0E_J4dn0"
      },
      "source": [
        "# pre-trained model graphs\n",
        "\n",
        "plt.plot(list(range(len(history.history['accuracy']))), history.history['accuracy'])\n",
        "plt.title(label='accuracy')\n",
        "plt.show()\n",
        "plt.plot(list(range(len(history.history['loss']))), history.history['loss'], label='loss')\n",
        "plt.title(label='loss')\n",
        "plt.show()"
      ],
      "execution_count": null,
      "outputs": []
    },
    {
      "cell_type": "markdown",
      "metadata": {
        "id": "mrOzNTjm0uCV"
      },
      "source": [
        "The pre-trained model actually overfit like crazy, but it was still pretty decent. I was getting training accuracies in the high 90%s, but my final testing accuracy was only 82%."
      ]
    },
    {
      "cell_type": "markdown",
      "metadata": {
        "id": "y5AaFcUV8NCB"
      },
      "source": [
        "---"
      ]
    }
  ]
}